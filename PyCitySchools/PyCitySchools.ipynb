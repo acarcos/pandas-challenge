{
 "cells": [
  {
   "cell_type": "code",
   "execution_count": null,
   "metadata": {},
   "outputs": [],
   "source": [
    "# Dependencies and Setup\n",
    "import pandas as pd\n",
    "import numpy as np\n",
    "\n",
    "# File to Load (Remember to Change These)\n",
    "school_data_to_load = \"schools_complete.csv\"\n",
    "student_data_to_load = \"students_complete.csv\"\n",
    "\n",
    "# Read School and Student Data File and store into Pandas Data Frames\n",
    "school_data = pd.read_csv(school_data_to_load)\n",
    "student_data = pd.read_csv(student_data_to_load)\n",
    "\n",
    "# Combine the data into a single dataset\n",
    "school_data_complete = pd.merge(student_data, school_data, how=\"left\", on=[\"school_name\", \"school_name\"])\n",
    "school_data_complete.head()"
   ]
  },
  {
   "cell_type": "code",
   "execution_count": null,
   "metadata": {},
   "outputs": [],
   "source": [
    "# Total number of schools\n",
    "total_schools = len(school_data_complete[\"school_name\"].unique())\n",
    "# Total number of students\n",
    "total_students = school_data_complete[\"student_name\"].count()\n",
    "# Total budget\n",
    "total_budget = sum(school_data_complete[\"budget\"].unique())\n",
    "# Average math score\n",
    "math_score_avrg = school_data_complete[\"math_score\"].mean()\n",
    "# Average reading score\n",
    "read_score_avrg = school_data_complete[\"reading_score\"].mean()\n",
    "# Overall passing rate\n",
    "passing_rate = (math_score_avrg + read_score_avrg) / 2\n",
    "# Percentage with a passing math score\n",
    "pass_math = school_data_complete.loc[school_data_complete[\"math_score\"] >= 70] # Students above 70 in math = 29370\n",
    "math_scores_values = pass_math[\"math_score\"] # Only math_score values, podria usar value_counts()\n",
    "#math_scores_values\n",
    "perc_pass_math = (math_scores_values.count() / total_students)*100 \n",
    "# Percentage with a passing reading score\n",
    "pass_read = school_data_complete.loc[school_data_complete[\"reading_score\"] >= 70 ] # Students with 70 score or more\n",
    "read_score_values = pass_read[\"reading_score\"] # Reading score values\n",
    "perc_pass_reading = (read_score_values.count() / total_students)*100\n",
    "# DataFrame for all schools\n",
    "school_df = pd.DataFrame(\n",
    "    {\"Number of Schools\": [total_schools], \"Number of Students\": [total_students], \"Total Budget\": [total_budget], \n",
    "     \"Average Math Score\": [math_score_avrg], \"Average Reading Score\": [read_score_avrg], \n",
    "     \"% Passing Math\": [perc_pass_math], \"% Passing Reading\": [perc_pass_reading], \"% Overall Passing Rate\": [passing_rate]\n",
    "     }\n",
    ")\n",
    "\n",
    "#school_df.format({\"Total Budget\" : \"${:,2f}\", \"Number of Students\": \"{:,}\"})\n",
    "\n",
    "school_df"
   ]
  },
  {
   "cell_type": "code",
   "execution_count": null,
   "metadata": {},
   "outputs": [],
   "source": [
    "# SUMMARY SCHOOL\n",
    "# Number of schools\n",
    "group_schools = school_data_complete.groupby(['school_name'])\n",
    "# Number of students\n",
    "school_students = group_schools.size() # Series\n",
    "# Type of schools\n",
    "type_schools = group_schools[\"type\"].first()\n",
    "# Budget per school\n",
    "budget_schools = group_schools[\"budget\"].first()\n",
    "# Budget per student\n",
    "budget_per_student = budget_schools / school_students \n",
    "# Math score average per school\n",
    "math_avrg_total = group_schools[\"math_score\"].mean()\n",
    "# Reading score average per school\n",
    "read_avrg_total = group_schools[\"reading_score\"].mean()\n",
    "# Percentage passing math\n",
    "pass_math_school = school_data_complete[school_data_complete[\"math_score\"] >= 70].groupby([\"school_name\"]).size()\n",
    "perc_math_school = (pass_math_school / school_students)*100\n",
    "# Percentage passing reading\n",
    "pass_read_school = school_data_complete[school_data_complete[\"reading_score\"] >= 70].groupby([\"school_name\"]).size()\n",
    "perc_read_school = (pass_read_school / school_students)*100\n",
    "# Percentage overall passing\n",
    "overall_passrate_school = (perc_read_school + perc_math_school)/2\n",
    "# DataFrame school summary\n",
    "summary_schools = pd.DataFrame({\"Number of Students\": school_students, \"Type\": type_schools,\n",
    "                               \"Budget\": budget_schools, \"Budget per Student\": budget_per_student,\n",
    "                               \"Average Math Score\": math_avrg_total, \"Average Reading Score\": read_avrg_total,\n",
    "                               \"% Passing Math\": perc_math_school, \"% Passing Reading\": perc_read_school,\n",
    "                               \"% Overall Passing\": overall_passrate_school})\n",
    "\n",
    "summary_schools.index.name = None\n",
    "summary_schools"
   ]
  },
  {
   "cell_type": "code",
   "execution_count": null,
   "metadata": {},
   "outputs": [],
   "source": [
    "# TOP PERFORMING SCHOOLS BY PASSING RATE\n",
    "sort_passing_rate = summary_schools.sort_values(\"% Overall Passing\", ascending=False)\n",
    "sort_passing_rate.index.name = None\n",
    "sort_passing_rate.head(5)"
   ]
  },
  {
   "cell_type": "code",
   "execution_count": null,
   "metadata": {},
   "outputs": [],
   "source": [
    "# BOTTOM PERFORMING SCHOOLS BY PASSING RATE\n",
    "sort_passing_rate_worse = summary_schools.sort_values(\"% Overall Passing\") # Default ascending=True\n",
    "sort_passing_rate.index.name = None\n",
    "sort_passing_rate_worse.head(5)"
   ]
  },
  {
   "cell_type": "code",
   "execution_count": null,
   "metadata": {},
   "outputs": [],
   "source": [
    "# MATH SCORES BY GRADE\n",
    "# 9th grade\n",
    "math_scores_by_gradenine = school_data_complete.loc[school_data_complete[\"grade\"] == \"9th\", [\"school_name\",\"math_score\", \"grade\"]].groupby(\"school_name\")\n",
    "math_ninegrade = math_scores_by_gradenine[\"math_score\"].mean()\n",
    "# 10th grade\n",
    "math_scores_by_gradeten = school_data_complete.loc[school_data_complete[\"grade\"] == \"10th\", [\"school_name\",\"math_score\", \"grade\"]].groupby(\"school_name\")\n",
    "math_tengrade = math_scores_by_gradeten[\"math_score\"].mean()\n",
    "# 11th grade\n",
    "math_scores_by_gradeeleven = school_data_complete.loc[school_data_complete[\"grade\"] == \"11th\", [\"school_name\",\"math_score\", \"grade\"]].groupby(\"school_name\")\n",
    "math_elevengrade = math_scores_by_gradeeleven[\"math_score\"].mean()\n",
    "# 12th grade\n",
    "math_scores_by_gradetwelve = school_data_complete.loc[school_data_complete[\"grade\"] == \"12th\", [\"school_name\",\"math_score\", \"grade\"]].groupby(\"school_name\")\n",
    "math_twelvegrade = math_scores_by_gradetwelve[\"math_score\"].mean()\n",
    "# DataFrame reading score by grade\n",
    "math_summary_school = pd.DataFrame({\"9th\": math_ninegrade, \"10th\": math_tengrade, \"11th\": math_elevengrade,\n",
    "                                       \"12th\": math_twelvegrade\n",
    "                                   })\n",
    "# Other option\n",
    "#mathscores_bygrade_group = school_data_complete.loc[school_data_complete[\"grade\"].isin([\"9th\", \"10th\", \"11th\", \"12th\"]), [\"school_name\",\"math_score\",\"grade\"]].groupby([\"school_name\",\"grade\"])\n",
    "#summary_math_bygrade = pd.DataFrame(mathscores_bygrade_group[\"math_score\"].mean())\n",
    "math_summary_school.index.name = None\n",
    "math_summary_school"
   ]
  },
  {
   "cell_type": "code",
   "execution_count": null,
   "metadata": {},
   "outputs": [],
   "source": [
    "# READING SCORE BY GRADE\n",
    "# 9th grade\n",
    "read_scores_by_gradenine = school_data_complete.loc[school_data_complete[\"grade\"] == \"9th\", [\"school_name\",\"reading_score\", \"grade\"]].groupby(\"school_name\")\n",
    "avrg_ninegrade = read_scores_by_gradenine[\"reading_score\"].mean()\n",
    "# 10th grade\n",
    "read_scores_by_gradeten = school_data_complete.loc[school_data_complete[\"grade\"] == \"10th\", [\"school_name\",\"reading_score\", \"grade\"]].groupby(\"school_name\")\n",
    "avrg_tengrade = read_scores_by_gradeten[\"reading_score\"].mean()\n",
    "# 11th grade\n",
    "read_scores_by_gradeeleven = school_data_complete.loc[school_data_complete[\"grade\"] == \"11th\", [\"school_name\",\"reading_score\", \"grade\"]].groupby(\"school_name\")\n",
    "avrg_elevengrade = read_scores_by_gradeeleven[\"reading_score\"].mean()\n",
    "# 12th grade\n",
    "read_scores_by_gradetwelve = school_data_complete.loc[school_data_complete[\"grade\"] == \"12th\", [\"school_name\",\"reading_score\", \"grade\"]].groupby(\"school_name\")\n",
    "avrg_twelvegrade = read_scores_by_gradetwelve[\"reading_score\"].mean()\n",
    "# DataFrame reading score by grade\n",
    "reading_summary_school = pd.DataFrame({\"9th\": avrg_ninegrade, \"10th\": avrg_tengrade, \"11th\": avrg_elevengrade,\n",
    "                                       \"12th\": avrg_twelvegrade\n",
    "                                      })\n",
    "reading_summary_school.index.name = None\n",
    "reading_summary_school"
   ]
  },
  {
   "cell_type": "code",
   "execution_count": null,
   "metadata": {},
   "outputs": [],
   "source": [
    "# SCORES BY SCHOOL SPENDING\n",
    "spending_bins = [0, 585, 615, 645, 675]\n",
    "group_names = [\"<$585\", \"$585-615\", \"$615-645\", \"$645-675\"]\n",
    "school_spending = summary_schools.loc[:,[\"Students\", \"Average Math Score\", \"Average Reading Score\", \n",
    "                                    \"% Passing Math\", \"% Passing Reading\", \"% Overall Passing\"]]\n",
    "school_spending[\"Spending per Student\"] = pd.cut(summary_schools[\"Budget per Student\"], spending_bins, labels=group_names)\n",
    "spending_group = school_spending.groupby(\"Spending per Student\")\n",
    "spending_group[[\"Average Math Score\", \"Average Reading Score\", \n",
    "                                    \"% Passing Math\", \"% Passing Reading\", \"% Overall Passing\"]].mean()"
   ]
  },
  {
   "cell_type": "code",
   "execution_count": null,
   "metadata": {},
   "outputs": [],
   "source": [
    "# SCORES BY SCHOOL SIZE\n",
    "size_bins = [0, 1000, 2000, 5000]\n",
    "group_names_size = [\"Small (<1000)\", \"Medium (1000-2000)\", \"Large (2000-5000)\"]\n",
    "school_size = summary_schools.loc[:,[\"Number of Students\", \"Average Math Score\", \"Average Reading Score\", \n",
    "                                    \"% Passing Math\", \"% Passing Reading\", \"% Overall Passing\"]]\n",
    "school_size[\"School Size\"] = pd.cut(summary_schools[\"Number of Students\"], size_bins, labels=group_names_size)\n",
    "size_group = school_size.groupby(\"School Size\")\n",
    "size_group[[\"Average Math Score\", \"Average Reading Score\", \n",
    "                                    \"% Passing Math\", \"% Passing Reading\", \"% Overall Passing\"]].mean()"
   ]
  },
  {
   "cell_type": "code",
   "execution_count": null,
   "metadata": {},
   "outputs": [],
   "source": [
    "# SCORES BY SCHOOL TYPE\n",
    "school_scores = summary_schools.loc[:,[\"Type\", \"Average Math Score\", \"Average Reading Score\", \n",
    "                                    \"% Passing Math\", \"% Passing Reading\", \"% Overall Passing\"]]\n",
    "scores_group = school_scores.groupby(\"Type\")\n",
    "scores_group[[\"Average Math Score\", \"Average Reading Score\", \n",
    "                                    \"% Passing Math\", \"% Passing Reading\", \"% Overall Passing\"]].mean()"
   ]
  },
  {
   "cell_type": "code",
   "execution_count": null,
   "metadata": {},
   "outputs": [],
   "source": []
  }
 ],
 "metadata": {
  "kernelspec": {
   "display_name": "Python 3.7.4 64-bit ('base': conda)",
   "language": "python",
   "name": "python37464bitbasecondaf8a42dbeb68b43b8ab181bef94341f6a"
  },
  "language_info": {
   "codemirror_mode": {
    "name": "ipython",
    "version": 3
   },
   "file_extension": ".py",
   "mimetype": "text/x-python",
   "name": "python",
   "nbconvert_exporter": "python",
   "pygments_lexer": "ipython3",
   "version": "3.7.4"
  }
 },
 "nbformat": 4,
 "nbformat_minor": 2
}
